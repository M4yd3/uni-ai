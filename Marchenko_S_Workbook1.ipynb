{
 "cells": [
  {
   "cell_type": "markdown",
   "metadata": {},
   "source": [
    "# 1.3"
   ]
  },
  {
   "cell_type": "code",
   "execution_count": 4,
   "metadata": {},
   "outputs": [
    {
     "name": "stdout",
     "output_type": "stream",
     "text": [
      "True | <class 'bool'>\n",
      "{8, 1, 3, 7} | <class 'set'>\n",
      "{2, 4, 5, 10, 'apple'} | <class 'set'>\n",
      "set() | <class 'set'>\n",
      "('Антонова Антонина', 34, 'ж') | <class 'tuple'>\n",
      "type | <class 'str'>\n",
      "[1, 'title', 2, 'content'] | <class 'list'>\n"
     ]
    }
   ],
   "source": [
    "x = 5 >= 2\n",
    "A = {1, 3, 7, 8}\n",
    "B = {2, 4, 5, 10, 'apple'}\n",
    "C = A & B\n",
    "df = 'Антонова Антонина', 34, 'ж'\n",
    "z = 'type'\n",
    "D = [1, 'title', 2, 'content']\n",
    "\n",
    "print(x, type(x), sep=' | ')\n",
    "print(A, type(A), sep=' | ')\n",
    "print(B, type(B), sep=' | ')\n",
    "print(C, type(C), sep=' | ')\n",
    "print(df, type(df), sep=' | ')\n",
    "print(z, type(z), sep=' | ')\n",
    "print(D, type(D), sep=' | ')"
   ]
  },
  {
   "cell_type": "markdown",
   "metadata": {},
   "source": [
    "# 2.3"
   ]
  },
  {
   "cell_type": "code",
   "execution_count": 7,
   "metadata": {},
   "outputs": [
    {
     "name": "stdout",
     "output_type": "stream",
     "text": [
      "6\n",
      "(5, ∞)\n"
     ]
    }
   ],
   "source": [
    "x = int(input())\n",
    "if x < -5:\n",
    "    print('(-∞, -5)')\n",
    "elif x <= 5:\n",
    "    print('[-5, 5]')\n",
    "else:\n",
    "    print('(5, ∞)')"
   ]
  },
  {
   "cell_type": "markdown",
   "metadata": {},
   "source": [
    "# 3.3.1"
   ]
  },
  {
   "cell_type": "code",
   "execution_count": 9,
   "metadata": {},
   "outputs": [
    {
     "name": "stdout",
     "output_type": "stream",
     "text": [
      "10\n",
      "7\n",
      "4\n",
      "1\n"
     ]
    }
   ],
   "source": [
    "x = 10\n",
    "while x >= 1:\n",
    "    print(x\n",
    "    x -= 3"
   ]
  },
  {
   "cell_type": "markdown",
   "metadata": {},
   "source": [
    "# 3.3.2"
   ]
  },
  {
   "cell_type": "code",
   "execution_count": 11,
   "metadata": {},
   "outputs": [
    {
     "name": "stdout",
     "output_type": "stream",
     "text": [
      "consciousness\n",
      "walking upright\n",
      "two legs\n",
      "two arms\n"
     ]
    }
   ],
   "source": [
    "traits = ['consciousness', 'walking upright', 'two legs', 'two arms']\n",
    "for i in traits:\n",
    "    print(i);"
   ]
  },
  {
   "cell_type": "markdown",
   "metadata": {},
   "source": [
    "# 3.3.3"
   ]
  },
  {
   "cell_type": "code",
   "execution_count": null,
   "metadata": {},
   "outputs": [],
   "source": [
    "array = range(2, 16)\n",
    "print(array)"
   ]
  },
  {
   "cell_type": "markdown",
   "metadata": {},
   "source": [
    "# 3.3.4"
   ]
  },
  {
   "cell_type": "code",
   "execution_count": 12,
   "metadata": {},
   "outputs": [
    {
     "name": "stdout",
     "output_type": "stream",
     "text": [
      "105\n",
      "80\n",
      "55\n",
      "30\n",
      "5\n"
     ]
    }
   ],
   "source": [
    "for i in range(105, 1, -25):\n",
    "    print(i)"
   ]
  },
  {
   "cell_type": "markdown",
   "metadata": {},
   "source": [
    "# 3.3.5"
   ]
  },
  {
   "cell_type": "code",
   "execution_count": 22,
   "metadata": {},
   "outputs": [
    {
     "name": "stdout",
     "output_type": "stream",
     "text": [
      "[8, 1, 6, 3, 4, 5, 2, 7, 0, 9]\n"
     ]
    }
   ],
   "source": [
    "x = [0, 1, 2, 3, 4, 5, 6, 7, 8, 9]\n",
    "x[::2] = x[::2][::-1]\n",
    "print(x)"
   ]
  },
  {
   "cell_type": "markdown",
   "metadata": {},
   "source": [
    "# 4.3.1"
   ]
  },
  {
   "cell_type": "code",
   "execution_count": 46,
   "metadata": {},
   "outputs": [
    {
     "name": "stdout",
     "output_type": "stream",
     "text": [
      "0.5293597464702815\n",
      "0.534085138525475\n"
     ]
    },
    {
     "data": {
      "image/png": "[encoded data removed]",
      "text/plain": [
       "<Figure size 432x288 with 1 Axes>"
      ]
     },
     "metadata": {
      "needs_background": "light"
     },
     "output_type": "display_data"
    }
   ],
   "source": [
    "import random\n",
    "import numpy as np\n",
    "from matplotlib import pyplot as plt\n",
    "\n",
    "\n",
    "data = [random.random() for i in range(100)]\n",
    "marks = range(len(data))\n",
    "\n",
    "print(np.mean(data))\n",
    "print(np.median(data))\n",
    "\n",
    "fig = plt.figure()\n",
    "plt.grid()\n",
    "plt.scatter(marks, data)\n",
    "plt.show()"
   ]
  },
  {
   "cell_type": "markdown",
   "metadata": {},
   "source": [
    "# 4.3.2"
   ]
  },
  {
   "cell_type": "code",
   "execution_count": 4,
   "metadata": {},
   "outputs": [
    {
     "data": {
      "text/plain": [
       "<matplotlib.collections.PathCollection at 0x1c346c696d0>"
      ]
     },
     "execution_count": 4,
     "metadata": {},
     "output_type": "execute_result"
    },
    {
     "data": {
      "image/png": "[encoded data removed]",
      "text/plain": [
       "<Figure size 432x288 with 2 Axes>"
      ]
     },
     "metadata": {
      "needs_background": "light"
     },
     "output_type": "display_data"
    }
   ],
   "source": [
    "import numpy as np\n",
    "import matplotlib.pyplot as plt\n",
    "\n",
    "\n",
    "x = np.arange(1, 11)\n",
    "y = (np.sqrt(1 + np.e**np.sqrt(x) + np.cos(x**2)) / np.abs(1 - np.sin(x)**3)) + np.log(np.abs(2 * x))\n",
    "\n",
    "fig, plots = plt.subplots(2)\n",
    "\n",
    "plots[0].grid()\n",
    "plots[0].plot(x, y)\n",
    "\n",
    "plots[1].grid()\n",
    "plots[1].scatter(x[:5], y[:5])"
   ]
  },
  {
   "cell_type": "markdown",
   "metadata": {},
   "source": [
    "# 4.3.3"
   ]
  },
  {
   "cell_type": "code",
   "execution_count": 7,
   "metadata": {},
   "outputs": [
    {
     "name": "stdout",
     "output_type": "stream",
     "text": [
      "5.281433013197265\n"
     ]
    },
    {
     "data": {
      "image/png": "[encoded data removed]",
      "text/plain": [
       "<Figure size 432x288 with 1 Axes>"
      ]
     },
     "metadata": {
      "needs_background": "light"
     },
     "output_type": "display_data"
    }
   ],
   "source": [
    "import numpy as np\n",
    "import matplotlib.pyplot as plt\n",
    "from scipy.integrate import simps\n",
    "\n",
    "\n",
    "x = np.arange(1, 10)\n",
    "y = np.abs(np.cos(x * np.e**(np.cos(x) + np.log(x + 1))))\n",
    "\n",
    "plt.grid()\n",
    "plt.plot(x, y, c=\"r\")\n",
    "plt.fill_between(x, y)\n",
    "\n",
    "area = np.trapz(y)\n",
    "print(area)"
   ]
  },
  {
   "cell_type": "markdown",
   "metadata": {},
   "source": [
    "# 4.3.4"
   ]
  },
  {
   "cell_type": "code",
   "execution_count": 10,
   "metadata": {},
   "outputs": [
    {
     "data": {
      "text/plain": [
       "<matplotlib.legend.Legend at 0x1c34bf78970>"
      ]
     },
     "execution_count": 10,
     "metadata": {},
     "output_type": "execute_result"
    },
    {
     "data": {
      "image/png": "[encoded data removed]",
      "text/plain": [
       "<Figure size 432x288 with 1 Axes>"
      ]
     },
     "metadata": {
      "needs_background": "light"
     },
     "output_type": "display_data"
    }
   ],
   "source": [
    "import matplotlib.pyplot as plt\n",
    "\n",
    "\n",
    "x = range(1, 13)\n",
    "apple = [167.48, 148.99, 141.90, 152.83, 146.36, 136.6, 125.08, 132.04, 123.66, 123.75, 133.75, 133.52][::-1]\n",
    "microsoft = [335.13, 331.36, 282.12, 302.87, 286.36, 269.61, 251.23, 253., 238.47, 235.9, 235.6, 222.53][::-1]\n",
    "google = [144.21, 148.16, 133.55, 145.5, 135.48, 124.85, 121.1, 120.14, 104.9, 102.83, 92.68, 87.88][::-1]\n",
    "\n",
    "plt.grid()\n",
    "plt.plot(x, apple)\n",
    "plt.plot(x, microsoft)\n",
    "plt.plot(x, google)\n",
    "plt.legend([\"Apple\", \"Microsoft\", \"Google\"])"
   ]
  },
  {
   "cell_type": "markdown",
   "metadata": {},
   "source": [
    "# 4.3.5"
   ]
  },
  {
   "cell_type": "code",
   "execution_count": 16,
   "metadata": {},
   "outputs": [
    {
     "name": "stdout",
     "output_type": "stream",
     "text": [
      "Input first operand: 5\n",
      "Input second operand: 3\n",
      "Choose option: \n",
      "\t[1]: +\n",
      "\t[2]: -\n",
      "\t[3]: *\n",
      "\t[4]: /\n",
      "\t[5]: exp(x + y)\n",
      "\t[6]: sin(x + y)\n",
      "\t[7]: cos(x + y)\n",
      "\t[8]: x^y\n",
      "3\n",
      "Result of operation [*]: 15.0\n"
     ]
    }
   ],
   "source": [
    "import numpy as np\n",
    "\n",
    "\n",
    "x = float(input(\"Input first operand: \"))\n",
    "y = float(input(\"Input second operand: \"))\n",
    "\n",
    "operations = {\"+\": x + y, \"-\": x - y, \"*\": x * y, \"/\": x / y, \"exp(x + y)\": np.exp(x + y), \"sin(x + y)\": np.sin(x + y), \"cos(x + y)\": np.cos(x + y), \"x^y\": x**y}\n",
    "\n",
    "print(\"Choose option: \")\n",
    "for i, j in enumerate(operations):\n",
    "    print(f\"\\t[{i + 1}]: {j}\")\n",
    "\n",
    "operation = list(operations.keys())[int(input()) - 1]\n",
    "\n",
    "if operation in operations:\n",
    "    print(f\"Result of operation [{operation}]: {operations[operation]}\")\n"
   ]
  }
 ],
 "metadata": {
  "kernelspec": {
   "display_name": "Python 3 (ipykernel)",
   "language": "python",
   "name": "python3"
  },
  "language_info": {
   "codemirror_mode": {
    "name": "ipython",
    "version": 3
   },
   "file_extension": ".py",
   "mimetype": "text/x-python",
   "name": "python",
   "nbconvert_exporter": "python",
   "pygments_lexer": "ipython3",
   "version": "3.10.1"
  }
 },
 "nbformat": 4,
 "nbformat_minor": 2
}
