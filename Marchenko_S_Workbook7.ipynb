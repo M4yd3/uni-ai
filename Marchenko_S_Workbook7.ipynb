{
 "cells": [
  {
   "cell_type": "markdown",
   "id": "1adac3d7",
   "metadata": {},
   "source": [
    "# КВБО-01-21 Марченко Сергей"
   ]
  },
  {
   "cell_type": "markdown",
   "id": "00a0e7c7",
   "metadata": {},
   "source": [
    "# 1\n",
    "## Реализовать классы нейросетей по аналогии с классом OurNeuralNetwork.\n",
    "<h3>\n",
    "    <ol>\n",
    "        <li>\n",
    "            <p>\n",
    "                Данные нейросети:\n",
    "                <ul>\n",
    "                    <li>три входа (𝑥1, 𝑥2, 𝑥3);</li>\n",
    "                    <li>три нейрона в скрытых слоях (ℎ1, ℎ2, ℎ3);</li>\n",
    "                    <li>выход (𝑜1).</li>\n",
    "                </ul>\n",
    "            </p>\n",
    "            <p>\n",
    "                Нейроны имеют идентичные веса и пороги:\n",
    "                <ul>\n",
    "                    <li>𝑤 = [0.5, 0.5, 0.5];</li>\n",
    "                    <li>𝑏 = 0.</li>\n",
    "                </ul>\n",
    "            </p>\n",
    "        </li>\n",
    "        <li>\n",
    "            <p>\n",
    "                Данные нейросети:\n",
    "                <ul>\n",
    "                    <li>два входа (𝑥1, 𝑥2);</li>\n",
    "                    <li>два нейрона в скрытых слоях (ℎ1, ℎ2);</li>\n",
    "                    <li>два выхода (𝑜1, 𝑜2).</li>\n",
    "                </ul>\n",
    "            </p>\n",
    "            <p>\n",
    "                Нейроны имеют идентичные веса и пороги:\n",
    "                <ul>\n",
    "                    <li>𝑤 = [1, 0];</li>\n",
    "                    <li>𝑏 = 1.</li>\n",
    "                </ul>\n",
    "            </p>\n",
    "        </li>\n",
    "    </ol>\n",
    "</h3>"
   ]
  },
  {
   "cell_type": "code",
   "execution_count": 1,
   "id": "9b81522b",
   "metadata": {},
   "outputs": [],
   "source": [
    "import numpy as np\n",
    "\n",
    "\n",
    "def sigmoid(x):\n",
    "    return 1 / (1 + np.exp(-x))\n",
    "\n",
    "\n",
    "class Neuron:\n",
    "    def __init__(self, weights, bias):\n",
    "        self.weights = weights\n",
    "        self.bias = bias\n",
    "\n",
    "    def feedforward(self, inputs):\n",
    "        total = np.dot(self.weights, inputs) + self.bias\n",
    "        return sigmoid(total)\n",
    "\n",
    "\n",
    "class NeuralNetwork1:\n",
    "    def __init__(self):\n",
    "        weights = np.array([0.5, 0.5, 0.5])\n",
    "        bias = 0\n",
    "        self.h1 = self.h2 = self.h3 = self.o1 = Neuron(weights, bias)\n",
    "\n",
    "    def feedforward(self, x):\n",
    "        out_h = np.array([h.feedforward(x) for h in [self.h1, self.h2, self.h3]])\n",
    "        out_o1 = self.o1.feedforward(out_h)\n",
    "        return out_o1\n",
    "\n",
    "\n",
    "class NeuralNetwork2:\n",
    "    def __init__(self):\n",
    "        weights = np.array([1, 0])\n",
    "        bias = 1\n",
    "        self.h1 = self.h2 = self.o1 = self.o2 = Neuron(weights, bias)\n",
    "\n",
    "    def feedforward(self, x):\n",
    "        out_h = np.array([h.feedforward(x) for h in [self.h1, self.h2]])\n",
    "        out_o = np.array([h.feedforward(out_h) for h in [self.o1, self.o2]])\n",
    "        return out_o"
   ]
  }
 ],
 "metadata": {
  "kernelspec": {
   "display_name": "Python 3 (ipykernel)",
   "language": "python",
   "name": "python3"
  },
  "language_info": {
   "codemirror_mode": {
    "name": "ipython",
    "version": 3
   },
   "file_extension": ".py",
   "mimetype": "text/x-python",
   "name": "python",
   "nbconvert_exporter": "python",
   "pygments_lexer": "ipython3",
   "version": "3.10.1"
  }
 },
 "nbformat": 4,
 "nbformat_minor": 5
}
