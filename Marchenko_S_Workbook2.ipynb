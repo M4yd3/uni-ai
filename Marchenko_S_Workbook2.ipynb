{
 "cells": [
  {
   "cell_type": "markdown",
   "id": "d2807e21",
   "metadata": {},
   "source": [
    "# КВБО-01-21 Марченко Сергей"
   ]
  },
  {
   "cell_type": "markdown",
   "id": "e67dd4c8",
   "metadata": {},
   "source": [
    "# 1.3.1\n",
    "## Создать 8x8 матрицу и заполнить её в шахматном порядке нулями и единицами"
   ]
  },
  {
   "cell_type": "code",
   "execution_count": 10,
   "id": "f64d8d6e",
   "metadata": {},
   "outputs": [
    {
     "name": "stdout",
     "output_type": "stream",
     "text": [
      "[[0 1 0 1 0 1 0 1]\n",
      " [1 0 1 0 1 0 1 0]\n",
      " [0 1 0 1 0 1 0 1]\n",
      " [1 0 1 0 1 0 1 0]\n",
      " [0 1 0 1 0 1 0 1]\n",
      " [1 0 1 0 1 0 1 0]\n",
      " [0 1 0 1 0 1 0 1]\n",
      " [1 0 1 0 1 0 1 0]]\n"
     ]
    }
   ],
   "source": [
    "import numpy as np\n",
    "\n",
    "\n",
    "matrix = np.tile(np.array([[0, 1], [1, 0]]), [4, 4])\n",
    "print(matrix)"
   ]
  },
  {
   "cell_type": "markdown",
   "id": "3eeaabab",
   "metadata": {},
   "source": [
    "# 1.3.2\n",
    "## Создать 5x5 матрицу со значениями в строках от 0 до 4. Для создания необходимо использовать функцию arange."
   ]
  },
  {
   "cell_type": "code",
   "execution_count": 16,
   "id": "50899aef",
   "metadata": {},
   "outputs": [
    {
     "name": "stdout",
     "output_type": "stream",
     "text": [
      "[[0 1 2 3 4]\n",
      " [0 1 2 3 4]\n",
      " [0 1 2 3 4]\n",
      " [0 1 2 3 4]\n",
      " [0 1 2 3 4]]\n"
     ]
    }
   ],
   "source": [
    "import numpy as np\n",
    "\n",
    "\n",
    "matrix = np.zeros((5, 5), dtype=int) + np.arange(5)\n",
    "print(matrix)"
   ]
  },
  {
   "cell_type": "markdown",
   "id": "7f05f543",
   "metadata": {},
   "source": [
    "# 1.3.3\n",
    "## Создать массив 3x3x3 со случайными значениями."
   ]
  },
  {
   "cell_type": "code",
   "execution_count": 17,
   "id": "a729a4d9",
   "metadata": {},
   "outputs": [
    {
     "name": "stdout",
     "output_type": "stream",
     "text": [
      "[[[0.07605166 0.91849519 0.16989987]\n",
      "  [0.04946346 0.92780858 0.76556587]\n",
      "  [0.62007802 0.44622348 0.08067212]]\n",
      "\n",
      " [[0.61413026 0.34080184 0.74434198]\n",
      "  [0.69792751 0.08684613 0.49523601]\n",
      "  [0.43092813 0.93257328 0.42591935]]\n",
      "\n",
      " [[0.1604034  0.03422533 0.66546531]\n",
      "  [0.15917693 0.2810526  0.31061194]\n",
      "  [0.96060867 0.44557854 0.11266511]]]\n"
     ]
    }
   ],
   "source": [
    "import numpy as np\n",
    "\n",
    "\n",
    "rng = np.random.default_rng()\n",
    "array = rng.random((3, 3, 3))\n",
    "print(array)"
   ]
  },
  {
   "cell_type": "markdown",
   "id": "c7d18f25",
   "metadata": {},
   "source": [
    "# 1.3.4\n",
    "## Создать матрицу с 0 внутри, и 1 на границах."
   ]
  },
  {
   "cell_type": "code",
   "execution_count": 18,
   "id": "29c3ea96",
   "metadata": {},
   "outputs": [
    {
     "name": "stdout",
     "output_type": "stream",
     "text": [
      "[[1 1 1 1 1 1 1 1 1 1]\n",
      " [1 0 0 0 0 0 0 0 0 1]\n",
      " [1 0 0 0 0 0 0 0 0 1]\n",
      " [1 0 0 0 0 0 0 0 0 1]\n",
      " [1 0 0 0 0 0 0 0 0 1]\n",
      " [1 0 0 0 0 0 0 0 0 1]\n",
      " [1 0 0 0 0 0 0 0 0 1]\n",
      " [1 0 0 0 0 0 0 0 0 1]\n",
      " [1 0 0 0 0 0 0 0 0 1]\n",
      " [1 1 1 1 1 1 1 1 1 1]]\n"
     ]
    }
   ],
   "source": [
    "import numpy as np\n",
    "\n",
    "\n",
    "matrix = np.ones((10, 10), dtype=int)\n",
    "matrix[1:-1,1:-1] = 0\n",
    "print(matrix)"
   ]
  },
  {
   "cell_type": "markdown",
   "id": "49bcbd77",
   "metadata": {},
   "source": [
    "# 1.3.5\n",
    "## Создайте массив и отсортируйте его по убыванию."
   ]
  },
  {
   "cell_type": "code",
   "execution_count": 19,
   "id": "8ec49a9c",
   "metadata": {},
   "outputs": [
    {
     "name": "stdout",
     "output_type": "stream",
     "text": [
      "[0.95513142 0.93011153 0.90073439 0.79053736 0.64109622 0.43687724\n",
      " 0.41316295 0.4050575  0.29621197 0.23545035]\n"
     ]
    }
   ],
   "source": [
    "import numpy as np\n",
    "\n",
    "\n",
    "rng = np.random.default_rng()\n",
    "array = rng.random(10)\n",
    "array.sort()\n",
    "array = np.flip(array)\n",
    "print(array)"
   ]
  },
  {
   "cell_type": "markdown",
   "id": "dee82156",
   "metadata": {},
   "source": [
    "# 1.3.6\n",
    "## Создайте матрицу, выведите ее форму, размер и размерность."
   ]
  },
  {
   "cell_type": "code",
   "execution_count": 20,
   "id": "a222c096",
   "metadata": {},
   "outputs": [
    {
     "name": "stdout",
     "output_type": "stream",
     "text": [
      "Matrix:\n",
      "[[0 0 0]\n",
      " [1 0 0]]\n",
      "Form: Rectangle\n",
      "Size: 6\n",
      "Dimensions: 2x3\n"
     ]
    }
   ],
   "source": [
    "import numpy as np\n",
    "\n",
    "\n",
    "rng = np.random.default_rng()\n",
    "shape = tuple(rng.integers(1, 6, 2))\n",
    "matrix = rng.integers(0, 2, shape)\n",
    "\n",
    "form = \"Square\"\n",
    "if shape[0] == 1 and shape[1] > 1:\n",
    "    form = \"Vector-row\"\n",
    "elif shape[0] > 1 and shape[1] == 1:\n",
    "    form = \"Vector-column\"\n",
    "elif shape[0] != shape[1]:\n",
    "    form = \"Rectangle\"   \n",
    "\n",
    "print(f\"Matrix:\\n{matrix}\")\n",
    "print(f\"Form: {form}\")\n",
    "print(f\"Size: {matrix.size}\")\n",
    "print(f\"Dimensions: {shape[0]}x{shape[1]}\")"
   ]
  },
  {
   "cell_type": "markdown",
   "id": "5c956f6f",
   "metadata": {},
   "source": [
    "# 2.3.1\n",
    "## Найдите евклидово расстояние между двумя Series (точками) a и b, не используя встроенную формулу."
   ]
  },
  {
   "cell_type": "code",
   "execution_count": 21,
   "id": "90fa9e30",
   "metadata": {},
   "outputs": [
    {
     "name": "stdout",
     "output_type": "stream",
     "text": [
      "3.1622776601683795\n"
     ]
    }
   ],
   "source": [
    "import pandas as pd\n",
    "import numpy as np\n",
    "\n",
    "\n",
    "a = pd.Series([4, 5])\n",
    "b = pd.Series([1, 6])\n",
    "print(np.sqrt(np.abs(a[0] - b[0])**2 + np.abs(a[1] - b[1])**2))"
   ]
  },
  {
   "cell_type": "markdown",
   "id": "91e44675",
   "metadata": {},
   "source": [
    "# 2.3.2\n",
    "## Найдите в Интернете ссылку на любой csv файл и сформируйте из него фрейм данных.\n"
   ]
  },
  {
   "cell_type": "code",
   "execution_count": 32,
   "id": "f0b02b16",
   "metadata": {},
   "outputs": [
    {
     "data": {
      "text/html": [
       "<div>\n",
       "<style scoped>\n",
       "    .dataframe tbody tr th:only-of-type {\n",
       "        vertical-align: middle;\n",
       "    }\n",
       "\n",
       "    .dataframe tbody tr th {\n",
       "        vertical-align: top;\n",
       "    }\n",
       "\n",
       "    .dataframe thead th {\n",
       "        text-align: right;\n",
       "    }\n",
       "</style>\n",
       "<table border=\"1\" class=\"dataframe\">\n",
       "  <thead>\n",
       "    <tr style=\"text-align: right;\">\n",
       "      <th></th>\n",
       "      <th>Gender</th>\n",
       "      <th>Length</th>\n",
       "      <th>Diameter</th>\n",
       "      <th>Height</th>\n",
       "      <th>Whole weight</th>\n",
       "      <th>Shucked weight</th>\n",
       "      <th>Viscera weight</th>\n",
       "      <th>Shell weight</th>\n",
       "      <th>Rings</th>\n",
       "    </tr>\n",
       "  </thead>\n",
       "  <tbody>\n",
       "    <tr>\n",
       "      <th>0</th>\n",
       "      <td>M</td>\n",
       "      <td>0.455</td>\n",
       "      <td>0.365</td>\n",
       "      <td>0.095</td>\n",
       "      <td>0.5140</td>\n",
       "      <td>0.2245</td>\n",
       "      <td>0.1010</td>\n",
       "      <td>0.150</td>\n",
       "      <td>15</td>\n",
       "    </tr>\n",
       "    <tr>\n",
       "      <th>1</th>\n",
       "      <td>M</td>\n",
       "      <td>0.350</td>\n",
       "      <td>0.265</td>\n",
       "      <td>0.090</td>\n",
       "      <td>0.2255</td>\n",
       "      <td>0.0995</td>\n",
       "      <td>0.0485</td>\n",
       "      <td>0.070</td>\n",
       "      <td>7</td>\n",
       "    </tr>\n",
       "    <tr>\n",
       "      <th>2</th>\n",
       "      <td>F</td>\n",
       "      <td>0.530</td>\n",
       "      <td>0.420</td>\n",
       "      <td>0.135</td>\n",
       "      <td>0.6770</td>\n",
       "      <td>0.2565</td>\n",
       "      <td>0.1415</td>\n",
       "      <td>0.210</td>\n",
       "      <td>9</td>\n",
       "    </tr>\n",
       "    <tr>\n",
       "      <th>3</th>\n",
       "      <td>M</td>\n",
       "      <td>0.440</td>\n",
       "      <td>0.365</td>\n",
       "      <td>0.125</td>\n",
       "      <td>0.5160</td>\n",
       "      <td>0.2155</td>\n",
       "      <td>0.1140</td>\n",
       "      <td>0.155</td>\n",
       "      <td>10</td>\n",
       "    </tr>\n",
       "    <tr>\n",
       "      <th>4</th>\n",
       "      <td>I</td>\n",
       "      <td>0.330</td>\n",
       "      <td>0.255</td>\n",
       "      <td>0.080</td>\n",
       "      <td>0.2050</td>\n",
       "      <td>0.0895</td>\n",
       "      <td>0.0395</td>\n",
       "      <td>0.055</td>\n",
       "      <td>7</td>\n",
       "    </tr>\n",
       "  </tbody>\n",
       "</table>\n",
       "</div>"
      ],
      "text/plain": [
       "  Gender  Length  Diameter  Height  Whole weight  Shucked weight  \\\n",
       "0      M   0.455     0.365   0.095        0.5140          0.2245   \n",
       "1      M   0.350     0.265   0.090        0.2255          0.0995   \n",
       "2      F   0.530     0.420   0.135        0.6770          0.2565   \n",
       "3      M   0.440     0.365   0.125        0.5160          0.2155   \n",
       "4      I   0.330     0.255   0.080        0.2050          0.0895   \n",
       "\n",
       "   Viscera weight  Shell weight  Rings  \n",
       "0          0.1010         0.150     15  \n",
       "1          0.0485         0.070      7  \n",
       "2          0.1415         0.210      9  \n",
       "3          0.1140         0.155     10  \n",
       "4          0.0395         0.055      7  "
      ]
     },
     "execution_count": 32,
     "metadata": {},
     "output_type": "execute_result"
    }
   ],
   "source": [
    "import pandas as pn\n",
    "\n",
    "\n",
    "url = 'https://raw.githubusercontent.com/akmand/datasets/main/abolone.csv'\n",
    "dataframe = pd.read_csv(url)\n",
    "dataframe.head(5)"
   ]
  }
 ],
 "metadata": {
  "kernelspec": {
   "display_name": "Python 3 (ipykernel)",
   "language": "python",
   "name": "python3"
  },
  "language_info": {
   "codemirror_mode": {
    "name": "ipython",
    "version": 3
   },
   "file_extension": ".py",
   "mimetype": "text/x-python",
   "name": "python",
   "nbconvert_exporter": "python",
   "pygments_lexer": "ipython3",
   "version": "3.10.1"
  }
 },
 "nbformat": 4,
 "nbformat_minor": 5
}
