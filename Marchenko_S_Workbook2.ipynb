{
 "cells": [
  {
   "cell_type": "markdown",
   "id": "d2807e21",
   "metadata": {},
   "source": [
    "# КВБО-01-21 Марченко Сергей"
   ]
  },
  {
   "cell_type": "markdown",
   "id": "e67dd4c8",
   "metadata": {},
   "source": [
    "# 1.3.1\n",
    "## Создать 8x8 матрицу и заполнить её в шахматном порядке нулями и единицами"
   ]
  },
  {
   "cell_type": "code",
   "execution_count": 10,
   "id": "f64d8d6e",
   "metadata": {},
   "outputs": [
    {
     "name": "stdout",
     "output_type": "stream",
     "text": [
      "[[0 1 0 1 0 1 0 1]\n",
      " [1 0 1 0 1 0 1 0]\n",
      " [0 1 0 1 0 1 0 1]\n",
      " [1 0 1 0 1 0 1 0]\n",
      " [0 1 0 1 0 1 0 1]\n",
      " [1 0 1 0 1 0 1 0]\n",
      " [0 1 0 1 0 1 0 1]\n",
      " [1 0 1 0 1 0 1 0]]\n"
     ]
    }
   ],
   "source": [
    "import numpy as np\n",
    "\n",
    "\n",
    "matrix = np.tile(np.array([[0, 1], [1, 0]]), [4, 4])\n",
    "print(matrix)"
   ]
  },
  {
   "cell_type": "markdown",
   "id": "3eeaabab",
   "metadata": {},
   "source": [
    "# 1.3.2\n",
    "## Создать 5x5 матрицу со значениями в строках от 0 до 4. Для создания необходимо использовать функцию arange."
   ]
  },
  {
   "cell_type": "code",
   "execution_count": 16,
   "id": "50899aef",
   "metadata": {},
   "outputs": [
    {
     "name": "stdout",
     "output_type": "stream",
     "text": [
      "[[0 1 2 3 4]\n",
      " [0 1 2 3 4]\n",
      " [0 1 2 3 4]\n",
      " [0 1 2 3 4]\n",
      " [0 1 2 3 4]]\n"
     ]
    }
   ],
   "source": [
    "import numpy as np\n",
    "\n",
    "\n",
    "matrix = np.zeros((5, 5), dtype=int) + np.arange(5)\n",
    "print(matrix)"
   ]
  },
  {
   "cell_type": "markdown",
   "id": "e227bb5d",
   "metadata": {},
   "source": [
    "# 1.3.3\n",
    "## Создать массив 3x3x3 со случайными значениями."
   ]
  },
  {
   "cell_type": "code",
   "execution_count": 17,
   "id": "0f7f5a82",
   "metadata": {},
   "outputs": [
    {
     "name": "stdout",
     "output_type": "stream",
     "text": [
      "[[[0.07605166 0.91849519 0.16989987]\n",
      "  [0.04946346 0.92780858 0.76556587]\n",
      "  [0.62007802 0.44622348 0.08067212]]\n",
      "\n",
      " [[0.61413026 0.34080184 0.74434198]\n",
      "  [0.69792751 0.08684613 0.49523601]\n",
      "  [0.43092813 0.93257328 0.42591935]]\n",
      "\n",
      " [[0.1604034  0.03422533 0.66546531]\n",
      "  [0.15917693 0.2810526  0.31061194]\n",
      "  [0.96060867 0.44557854 0.11266511]]]\n"
     ]
    }
   ],
   "source": [
    "import numpy as np\n",
    "\n",
    "\n",
    "rng = np.random.default_rng()\n",
    "array = rng.random((3, 3, 3))\n",
    "print(array)"
   ]
  },
  {
   "cell_type": "markdown",
   "id": "7452d11a",
   "metadata": {},
   "source": [
    "# 1.3.4\n",
    "## Создать матрицу с 0 внутри, и 1 на границах."
   ]
  },
  {
   "cell_type": "code",
   "execution_count": 18,
   "id": "4f02e434",
   "metadata": {},
   "outputs": [
    {
     "name": "stdout",
     "output_type": "stream",
     "text": [
      "[[1 1 1 1 1 1 1 1 1 1]\n",
      " [1 0 0 0 0 0 0 0 0 1]\n",
      " [1 0 0 0 0 0 0 0 0 1]\n",
      " [1 0 0 0 0 0 0 0 0 1]\n",
      " [1 0 0 0 0 0 0 0 0 1]\n",
      " [1 0 0 0 0 0 0 0 0 1]\n",
      " [1 0 0 0 0 0 0 0 0 1]\n",
      " [1 0 0 0 0 0 0 0 0 1]\n",
      " [1 0 0 0 0 0 0 0 0 1]\n",
      " [1 1 1 1 1 1 1 1 1 1]]\n"
     ]
    }
   ],
   "source": [
    "import numpy as np\n",
    "\n",
    "\n",
    "matrix = np.ones((10, 10), dtype=int)\n",
    "matrix[1:-1,1:-1] = 0\n",
    "print(matrix)"
   ]
  },
  {
   "cell_type": "markdown",
   "id": "adf8a662",
   "metadata": {},
   "source": [
    "# 1.3.5\n",
    "## Создайте массив и отсортируйте его по убыванию."
   ]
  },
  {
   "cell_type": "code",
   "execution_count": 19,
   "id": "750d820a",
   "metadata": {},
   "outputs": [
    {
     "name": "stdout",
     "output_type": "stream",
     "text": [
      "[0.95513142 0.93011153 0.90073439 0.79053736 0.64109622 0.43687724\n",
      " 0.41316295 0.4050575  0.29621197 0.23545035]\n"
     ]
    }
   ],
   "source": [
    "import numpy as np\n",
    "\n",
    "\n",
    "rng = np.random.default_rng()\n",
    "array = rng.random(10)\n",
    "array.sort()\n",
    "array = np.flip(array)\n",
    "print(array)"
   ]
  },
  {
   "cell_type": "markdown",
   "id": "521094b6",
   "metadata": {},
   "source": [
    "# 1.3.6\n",
    "## Создайте матрицу, выведите ее форму, размер и размерность."
   ]
  },
  {
   "cell_type": "code",
   "execution_count": 20,
   "id": "a75f0f09",
   "metadata": {},
   "outputs": [
    {
     "name": "stdout",
     "output_type": "stream",
     "text": [
      "Matrix:\n",
      "[[0 0 0]\n",
      " [1 0 0]]\n",
      "Form: Rectangle\n",
      "Size: 6\n",
      "Dimensions: 2x3\n"
     ]
    }
   ],
   "source": [
    "import numpy as np\n",
    "\n",
    "\n",
    "rng = np.random.default_rng()\n",
    "shape = tuple(rng.integers(1, 6, 2))\n",
    "matrix = rng.integers(0, 2, shape)\n",
    "\n",
    "form = \"Square\"\n",
    "if shape[0] == 1 and shape[1] > 1:\n",
    "    form = \"Vector-row\"\n",
    "elif shape[0] > 1 and shape[1] == 1:\n",
    "    form = \"Vector-column\"\n",
    "elif shape[0] != shape[1]:\n",
    "    form = \"Rectangle\"   \n",
    "\n",
    "print(f\"Matrix:\\n{matrix}\")\n",
    "print(f\"Form: {form}\")\n",
    "print(f\"Size: {matrix.size}\")\n",
    "print(f\"Dimensions: {shape[0]}x{shape[1]}\")"
   ]
  },
  {
   "cell_type": "markdown",
   "id": "93f162c1",
   "metadata": {},
   "source": [
    "# 2.3.1\n",
    "## Найдите евклидово расстояние между двумя Series (точками) a и b, не используя встроенную формулу."
   ]
  },
  {
   "cell_type": "code",
   "execution_count": 21,
   "id": "819cf54d",
   "metadata": {},
   "outputs": [
    {
     "name": "stdout",
     "output_type": "stream",
     "text": [
      "3.1622776601683795\n"
     ]
    }
   ],
   "source": [
    "import pandas as pd\n",
    "import numpy as np\n",
    "\n",
    "\n",
    "a = pd.Series([4, 5])\n",
    "b = pd.Series([1, 6])\n",
    "print(np.sqrt(np.abs(a[0] - b[0])**2 + np.abs(a[1] - b[1])**2))"
   ]
  }
 ],
 "metadata": {
  "kernelspec": {
   "display_name": "Python 3 (ipykernel)",
   "language": "python",
   "name": "python3"
  },
  "language_info": {
   "codemirror_mode": {
    "name": "ipython",
    "version": 3
   },
   "file_extension": ".py",
   "mimetype": "text/x-python",
   "name": "python",
   "nbconvert_exporter": "python",
   "pygments_lexer": "ipython3",
   "version": "3.10.1"
  }
 },
 "nbformat": 4,
 "nbformat_minor": 5
}
