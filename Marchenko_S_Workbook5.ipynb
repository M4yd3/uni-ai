{
 "cells": [
  {
   "cell_type": "markdown",
   "id": "2c39202e",
   "metadata": {},
   "source": [
    "# КВБО-01-21 Марченко Сергей"
   ]
  },
  {
   "cell_type": "markdown",
   "id": "7ad674db",
   "metadata": {},
   "source": [
    "# 1\n",
    "## Создайте класс по работе с тригонометрическими функциями. В классе должны быть реализованы функции вычисления: − косинуса; − синуса; − тангенса; − арксинуса; − арккосинуса; − арктангенса; − перевода из градусов в радианы."
   ]
  },
  {
   "cell_type": "code",
   "execution_count": 6,
   "id": "5594141a",
   "metadata": {},
   "outputs": [
    {
     "name": "stdout",
     "output_type": "stream",
     "text": [
      "-1.0\n",
      "1.2246467991473532e-16\n",
      "-1.2246467991473532e-16\n",
      "0.0\n",
      "1.5707963267948966\n",
      "0.7853981633974483\n",
      "1.5707963267948966\n"
     ]
    }
   ],
   "source": [
    "import math\n",
    "\n",
    "class Trigonometry:\n",
    "    def __init__(self):\n",
    "        pass\n",
    "\n",
    "    @staticmethod\n",
    "    def cos(rad):\n",
    "        return math.cos(rad)\n",
    "\n",
    "    @staticmethod\n",
    "    def sin(rad):\n",
    "        return math.sin(rad)\n",
    "\n",
    "    @staticmethod\n",
    "    def tan(rad):\n",
    "        return math.tan(rad)\n",
    "\n",
    "    @staticmethod\n",
    "    def acos(num):\n",
    "        return math.acos(num)\n",
    "\n",
    "    @staticmethod\n",
    "    def asin(num):\n",
    "        return math.asin(num)\n",
    "\n",
    "    @staticmethod\n",
    "    def atan(num):\n",
    "        return math.atan(num)\n",
    "\n",
    "    @staticmethod\n",
    "    def deg2rad(deg):\n",
    "        return math.radians(deg)\n",
    "\n",
    "\n",
    "print(Trigonometry.cos(math.pi))\n",
    "print(Trigonometry.sin(math.pi))\n",
    "print(Trigonometry.tan(math.pi))\n",
    "print(Trigonometry.acos(1))\n",
    "print(Trigonometry.asin(1))\n",
    "print(Trigonometry.atan(1))\n",
    "print(Trigonometry.deg2rad(90))"
   ]
  },
  {
   "attachments": {
    "image-2.png": {
     "image/png": "[encoded data removed]"
    }
   },
   "cell_type": "markdown",
   "id": "72a02d19",
   "metadata": {},
   "source": [
    "# 2\n",
    "## Представьте дерево показанное на рисунке с использованием списка из списков. Выведите на печать корень дерева, а также его левое и правое поддеревья. \n",
    "![image-2.png](attachment:image-2.png)"
   ]
  },
  {
   "cell_type": "code",
   "execution_count": 7,
   "id": "d3d5933e",
   "metadata": {},
   "outputs": [
    {
     "name": "stdout",
     "output_type": "stream",
     "text": [
      "[['d', 'e'], ['f']]\n",
      "['d', 'e']\n",
      "['f']\n"
     ]
    }
   ],
   "source": [
    "tree = [['d', 'e'], ['f']]\n",
    "print(tree)\n",
    "print(tree[0])\n",
    "print(tree[1])"
   ]
  },
  {
   "cell_type": "markdown",
   "id": "8b046a1a",
   "metadata": {},
   "source": [
    "# 3\n",
    "## Дан класс, описывающий бинарное дерево. \n",
    "```\n",
    "class Tree:\n",
    "    def __init__(self, data):\n",
    "        self.left = None\n",
    "        self.right = None\n",
    "        self.data = data\n",
    "\n",
    "    def print_tree(self):\n",
    "        print(self.data)\n",
    "```\n",
    "## Реализуйте в классе функцию для вставки нового элемента в дерево по следующим правилам: \n",
    "* Левое поддерево узла содержит только узлы со значениями меньше, чем значение в узле.\n",
    "* Правое поддерево узла содержит только узлы со значениями меньше, чем значение в узле.\n",
    "* Каждое из левого и правого поддеревьев также должно быть бинарным деревом поиска.\n",
    "* Не должно быть повторяющихся узлов.\n",
    "\n",
    "## Метод вставки сравнивает значение узла с родительским узлом и решает куда добавить элемент (в левое или правое поддерево). Перепишите, метод PrintTree для печати полной версии дерева. "
   ]
  },
  {
   "cell_type": "code",
   "execution_count": 11,
   "id": "56f8ab84",
   "metadata": {},
   "outputs": [
    {
     "name": "stdout",
     "output_type": "stream",
     "text": [
      "  1\n",
      " 3\n",
      "   4\n",
      "  6\n",
      "   7\n",
      "8\n",
      " 10\n",
      "   13\n",
      "  14\n"
     ]
    }
   ],
   "source": [
    "class Tree:\n",
    "    def __init__(self, data):\n",
    "        self.left = None\n",
    "        self.right = None\n",
    "        self.data = data\n",
    "\n",
    "    def print_tree(self, depth=0):\n",
    "        if self.left is not None:\n",
    "            self.left.print_tree(depth + 1)\n",
    "        tabs = ' ' * depth\n",
    "        print(f'{tabs}{self.data}')\n",
    "        if self.right is not None:\n",
    "            self.right.print_tree(depth + 1)\n",
    "\n",
    "    def add(self, data):\n",
    "        if data < self.data:\n",
    "            if self.left is None:\n",
    "                self.left = Tree(data)\n",
    "            else:\n",
    "                self.left.add(data)\n",
    "        elif data > self.data:\n",
    "            if self.right is None:\n",
    "                self.right = Tree(data)\n",
    "            else:\n",
    "                self.right.add(data)\n",
    "\n",
    "\n",
    "tree = Tree(8)\n",
    "tree.add(3)\n",
    "tree.add(1)\n",
    "tree.add(6)\n",
    "tree.add(4)\n",
    "tree.add(7)\n",
    "tree.add(10)\n",
    "tree.add(14)\n",
    "tree.add(13)\n",
    "\n",
    "tree.print_tree()"
   ]
  }
 ],
 "metadata": {
  "kernelspec": {
   "display_name": "Python 3 (ipykernel)",
   "language": "python",
   "name": "python3"
  },
  "language_info": {
   "codemirror_mode": {
    "name": "ipython",
    "version": 3
   },
   "file_extension": ".py",
   "mimetype": "text/x-python",
   "name": "python",
   "nbconvert_exporter": "python",
   "pygments_lexer": "ipython3",
   "version": "3.9.12"
  }
 },
 "nbformat": 4,
 "nbformat_minor": 5
}
