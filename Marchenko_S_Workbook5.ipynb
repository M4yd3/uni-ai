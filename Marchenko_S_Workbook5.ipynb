{
 "cells": [
  {
   "cell_type": "markdown",
   "id": "87242a72",
   "metadata": {},
   "source": [
    "# КВБО-01-21 Марченко Сергей"
   ]
  },
  {
   "cell_type": "markdown",
   "id": "76100efc",
   "metadata": {},
   "source": [
    "# 1\n",
    "## Создайте класс по работе с тригонометрическими функциями. В классе должны быть реализованы функции вычисления: − косинуса; − синуса; − тангенса; − арксинуса; − арккосинуса; − арктангенса; − перевода из градусов в радианы."
   ]
  },
  {
   "cell_type": "code",
   "execution_count": 6,
   "id": "44eb2deb",
   "metadata": {},
   "outputs": [
    {
     "name": "stdout",
     "output_type": "stream",
     "text": [
      "-1.0\n",
      "1.2246467991473532e-16\n",
      "-1.2246467991473532e-16\n",
      "0.0\n",
      "1.5707963267948966\n",
      "0.7853981633974483\n",
      "1.5707963267948966\n"
     ]
    }
   ],
   "source": [
    "import math\n",
    "\n",
    "class Trigonometry:\n",
    "    def __init__(self):\n",
    "        pass\n",
    "\n",
    "    @staticmethod\n",
    "    def cos(rad):\n",
    "        return math.cos(rad)\n",
    "\n",
    "    @staticmethod\n",
    "    def sin(rad):\n",
    "        return math.sin(rad)\n",
    "\n",
    "    @staticmethod\n",
    "    def tan(rad):\n",
    "        return math.tan(rad)\n",
    "\n",
    "    @staticmethod\n",
    "    def acos(num):\n",
    "        return math.acos(num)\n",
    "\n",
    "    @staticmethod\n",
    "    def asin(num):\n",
    "        return math.asin(num)\n",
    "\n",
    "    @staticmethod\n",
    "    def atan(num):\n",
    "        return math.atan(num)\n",
    "\n",
    "    @staticmethod\n",
    "    def deg2rad(deg):\n",
    "        return math.radians(deg)\n",
    "\n",
    "\n",
    "print(Trigonometry.cos(math.pi))\n",
    "print(Trigonometry.sin(math.pi))\n",
    "print(Trigonometry.tan(math.pi))\n",
    "print(Trigonometry.acos(1))\n",
    "print(Trigonometry.asin(1))\n",
    "print(Trigonometry.atan(1))\n",
    "print(Trigonometry.deg2rad(90))"
   ]
  }
 ],
 "metadata": {
  "kernelspec": {
   "display_name": "Python 3 (ipykernel)",
   "language": "python",
   "name": "python3"
  },
  "language_info": {
   "codemirror_mode": {
    "name": "ipython",
    "version": 3
   },
   "file_extension": ".py",
   "mimetype": "text/x-python",
   "name": "python",
   "nbconvert_exporter": "python",
   "pygments_lexer": "ipython3",
   "version": "3.9.12"
  }
 },
 "nbformat": 4,
 "nbformat_minor": 5
}
